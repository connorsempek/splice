{
 "cells": [
  {
   "cell_type": "markdown",
   "metadata": {},
   "source": [
    "### TODOs\n",
    "* Should set many parameters to None (e.g., slice_by and idx)\n",
    "* Bug with empty string hover_text\n",
    "* update traces method\n",
    "* drop_attr method which performs an update by removing an attribute\n",
    "* access trace list as attribute\n",
    "* annotation methods, expecially in bar charts\n",
    "* break up splicer functions\n",
    "* method to return traces indexed by name (might be useful)\n",
    "* add points/lines e.g. add y=3 line, and allow to add by date or categorical point too\n",
    "* Ribbon plots\n",
    "* Error bars\n",
    "* Subplots shouldn't have dedicated figure, should call an update method, or, have methods that return static figure that doesn't get updated"
   ]
  },
  {
   "cell_type": "code",
   "execution_count": 4,
   "metadata": {
    "collapsed": false
   },
   "outputs": [
    {
     "data": {
      "text/html": [
       "<script>requirejs.config({paths: { 'plotly': ['https://cdn.plot.ly/plotly-latest.min']},});if(!window.Plotly) {{require(['plotly'],function(plotly) {window.Plotly=plotly;});}}</script>"
      ],
      "text/plain": [
       "<IPython.core.display.HTML object>"
      ]
     },
     "metadata": {},
     "output_type": "display_data"
    }
   ],
   "source": [
    "import sys\n",
    "import numpy as np\n",
    "import pandas as pd\n",
    "import plotly\n",
    "import plotly.graph_objs as go\n",
    "\n",
    "sys.path.append('/Users/csempek/root/repos/personal/splice/')\n",
    "import splice\n",
    "import splice.splice_objs as so\n",
    "\n",
    "import plotly.offline as off\n",
    "off.init_notebook_mode(connected=True)"
   ]
  },
  {
   "cell_type": "code",
   "execution_count": 5,
   "metadata": {
    "collapsed": false
   },
   "outputs": [],
   "source": [
    "np.random.seed(111)\n",
    "df = pd.DataFrame({\n",
    "    'idx': np.arange(1000) % 100,\n",
    "    'num': np.random.random(1000),\n",
    "    'cat1': ['ABCD'[np.random.randint(0, 4)] for _ in range(1000)],\n",
    "    'cat2': [['male', 'female'][np.random.randint(0, 2)] for _ in range(1000)],\n",
    "    'cat3': [['child', 'teen', 'adult'][np.random.randint(0, 3)] for _ in range(1000)],\n",
    "    })"
   ]
  },
  {
   "cell_type": "code",
   "execution_count": 40,
   "metadata": {
    "collapsed": false
   },
   "outputs": [],
   "source": [
    "bar = so.GroupedBars(df=df, x='cat1', y='num', \n",
    "                     slice_by=['cat2', 'cat3'],\n",
    "                     idx=['cat2', 'cat3'],\n",
    "                     hover_text=['cat1', 'cat2', 'cat3'],\n",
    "                     marker={'line': {'color':'gray', 'width':0.5}}\n",
    "                    )"
   ]
  },
  {
   "cell_type": "code",
   "execution_count": 41,
   "metadata": {
    "collapsed": false
   },
   "outputs": [
    {
     "data": {
      "text/html": [
       "<div id=\"f059513e-20a0-44ea-aed8-95a36361ca79\" style=\"height: 525px; width: 100%;\" class=\"plotly-graph-div\"></div><script type=\"text/javascript\">require([\"plotly\"], function(Plotly) { window.PLOTLYENV=window.PLOTLYENV || {};window.PLOTLYENV.BASE_URL=\"https://plot.ly\";Plotly.newPlot(\"f059513e-20a0-44ea-aed8-95a36361ca79\", [{\"legendgroup\": \"male|adult\", \"name\": \"male|adult\", \"text\": [\"cat1: A<br>cat2: male<br>cat3: adult\", \"cat1: B<br>cat2: male<br>cat3: adult\", \"cat1: C<br>cat2: male<br>cat3: adult\", \"cat1: D<br>cat2: male<br>cat3: adult\"], \"marker\": {\"color\": \"rgba(25, 181, 254, 1)\", \"line\": {\"color\": \"gray\", \"width\": 0.5}}, \"hoverinfo\": \"text\", \"y\": [15.72101973379144, 19.587735455966396, 22.46989391225016, 23.334960734307646], \"x\": [\"A\", \"B\", \"C\", \"D\"], \"type\": \"bar\"}, {\"legendgroup\": \"female|adult\", \"name\": \"female|adult\", \"text\": [\"cat1: A<br>cat2: female<br>cat3: adult\", \"cat1: B<br>cat2: female<br>cat3: adult\", \"cat1: C<br>cat2: female<br>cat3: adult\", \"cat1: D<br>cat2: female<br>cat3: adult\"], \"marker\": {\"color\": \"rgba(103, 65, 114, 1)\", \"line\": {\"color\": \"gray\", \"width\": 0.5}}, \"hoverinfo\": \"text\", \"y\": [14.315842614846789, 18.074745094614343, 19.40114627442219, 24.991385240654857], \"x\": [\"A\", \"B\", \"C\", \"D\"], \"type\": \"bar\"}, {\"legendgroup\": \"female|child\", \"name\": \"female|child\", \"text\": [\"cat1: A<br>cat2: female<br>cat3: child\", \"cat1: B<br>cat2: female<br>cat3: child\", \"cat1: C<br>cat2: female<br>cat3: child\", \"cat1: D<br>cat2: female<br>cat3: child\"], \"marker\": {\"color\": \"rgba(58, 83, 155, 1)\", \"line\": {\"color\": \"gray\", \"width\": 0.5}}, \"hoverinfo\": \"text\", \"y\": [23.70538321388523, 22.188830435490498, 20.13595000562476, 14.714808741590392], \"x\": [\"A\", \"B\", \"C\", \"D\"], \"type\": \"bar\"}, {\"legendgroup\": \"female|teen\", \"name\": \"female|teen\", \"text\": [\"cat1: A<br>cat2: female<br>cat3: teen\", \"cat1: B<br>cat2: female<br>cat3: teen\", \"cat1: C<br>cat2: female<br>cat3: teen\", \"cat1: D<br>cat2: female<br>cat3: teen\"], \"marker\": {\"color\": \"rgba(34, 49, 63, 1)\", \"line\": {\"color\": \"gray\", \"width\": 0.5}}, \"hoverinfo\": \"text\", \"y\": [26.750690529336975, 18.15374863496241, 20.485470692520586, 20.504159255918808], \"x\": [\"A\", \"B\", \"C\", \"D\"], \"type\": \"bar\"}, {\"legendgroup\": \"male|teen\", \"name\": \"male|teen\", \"text\": [\"cat1: A<br>cat2: male<br>cat3: teen\", \"cat1: B<br>cat2: male<br>cat3: teen\", \"cat1: C<br>cat2: male<br>cat3: teen\", \"cat1: D<br>cat2: male<br>cat3: teen\"], \"marker\": {\"color\": \"rgba(243, 156, 18, 1)\", \"line\": {\"color\": \"gray\", \"width\": 0.5}}, \"hoverinfo\": \"text\", \"y\": [20.588190242010306, 24.463632428994377, 20.74811816224883, 16.887216009844796], \"x\": [\"A\", \"B\", \"C\", \"D\"], \"type\": \"bar\"}, {\"legendgroup\": \"male|child\", \"name\": \"male|child\", \"text\": [\"cat1: A<br>cat2: male<br>cat3: child\", \"cat1: B<br>cat2: male<br>cat3: child\", \"cat1: C<br>cat2: male<br>cat3: child\", \"cat1: D<br>cat2: male<br>cat3: child\"], \"marker\": {\"color\": \"rgba(102, 204, 153, 1)\", \"line\": {\"color\": \"gray\", \"width\": 0.5}}, \"hoverinfo\": \"text\", \"y\": [18.703014296985877, 24.451667843427405, 18.47765650057995, 22.417882467550907], \"x\": [\"A\", \"B\", \"C\", \"D\"], \"type\": \"bar\"}], {\"barmode\": \"group\", \"legend\": {\"tracegroupgap\": 0}}, {\"linkText\": \"Export to plot.ly\", \"showLink\": true})});</script>"
      ],
      "text/plain": [
       "<IPython.core.display.HTML object>"
      ]
     },
     "metadata": {},
     "output_type": "display_data"
    }
   ],
   "source": [
    "off.iplot(bar.figure)"
   ]
  },
  {
   "cell_type": "code",
   "execution_count": 42,
   "metadata": {
    "collapsed": false
   },
   "outputs": [
    {
     "name": "stdout",
     "output_type": "stream",
     "text": [
      "This is the format of your plot grid:\n",
      "[ (1,1) x1,y1 ]  [ (1,2) x2,y2 ]\n",
      "[ (2,1) x3,y3 ]  [ (2,2) x4,y4 ]\n",
      "[ (3,1) x5,y5 ]  [ (3,2) x6,y6 ]\n",
      "\n"
     ]
    },
    {
     "data": {
      "text/html": [
       "<div id=\"eef4016a-0f25-429e-9b13-ee79cdd9d550\" style=\"height: 525px; width: 100%;\" class=\"plotly-graph-div\"></div><script type=\"text/javascript\">require([\"plotly\"], function(Plotly) { window.PLOTLYENV=window.PLOTLYENV || {};window.PLOTLYENV.BASE_URL=\"https://plot.ly\";Plotly.newPlot(\"eef4016a-0f25-429e-9b13-ee79cdd9d550\", [{\"legendgroup\": \"male|adult\", \"name\": \"male|adult\", \"yaxis\": \"y1\", \"text\": [\"cat1: A<br>cat2: male<br>cat3: adult\", \"cat1: B<br>cat2: male<br>cat3: adult\", \"cat1: C<br>cat2: male<br>cat3: adult\", \"cat1: D<br>cat2: male<br>cat3: adult\"], \"marker\": {\"color\": \"rgba(25, 181, 254, 1)\", \"line\": {\"color\": \"gray\", \"width\": 0.5}}, \"xaxis\": \"x1\", \"hoverinfo\": \"text\", \"y\": [15.72101973379144, 19.587735455966396, 22.46989391225016, 23.334960734307646], \"x\": [\"A\", \"B\", \"C\", \"D\"], \"type\": \"bar\"}, {\"legendgroup\": \"female|adult\", \"name\": \"female|adult\", \"yaxis\": \"y2\", \"text\": [\"cat1: A<br>cat2: female<br>cat3: adult\", \"cat1: B<br>cat2: female<br>cat3: adult\", \"cat1: C<br>cat2: female<br>cat3: adult\", \"cat1: D<br>cat2: female<br>cat3: adult\"], \"marker\": {\"color\": \"rgba(103, 65, 114, 1)\", \"line\": {\"color\": \"gray\", \"width\": 0.5}}, \"xaxis\": \"x2\", \"hoverinfo\": \"text\", \"y\": [14.315842614846789, 18.074745094614343, 19.40114627442219, 24.991385240654857], \"x\": [\"A\", \"B\", \"C\", \"D\"], \"type\": \"bar\"}, {\"legendgroup\": \"female|child\", \"name\": \"female|child\", \"yaxis\": \"y3\", \"text\": [\"cat1: A<br>cat2: female<br>cat3: child\", \"cat1: B<br>cat2: female<br>cat3: child\", \"cat1: C<br>cat2: female<br>cat3: child\", \"cat1: D<br>cat2: female<br>cat3: child\"], \"marker\": {\"color\": \"rgba(58, 83, 155, 1)\", \"line\": {\"color\": \"gray\", \"width\": 0.5}}, \"xaxis\": \"x3\", \"hoverinfo\": \"text\", \"y\": [23.70538321388523, 22.188830435490498, 20.13595000562476, 14.714808741590392], \"x\": [\"A\", \"B\", \"C\", \"D\"], \"type\": \"bar\"}, {\"legendgroup\": \"female|teen\", \"name\": \"female|teen\", \"yaxis\": \"y4\", \"text\": [\"cat1: A<br>cat2: female<br>cat3: teen\", \"cat1: B<br>cat2: female<br>cat3: teen\", \"cat1: C<br>cat2: female<br>cat3: teen\", \"cat1: D<br>cat2: female<br>cat3: teen\"], \"marker\": {\"color\": \"rgba(34, 49, 63, 1)\", \"line\": {\"color\": \"gray\", \"width\": 0.5}}, \"xaxis\": \"x4\", \"hoverinfo\": \"text\", \"y\": [26.750690529336975, 18.15374863496241, 20.485470692520586, 20.504159255918808], \"x\": [\"A\", \"B\", \"C\", \"D\"], \"type\": \"bar\"}, {\"legendgroup\": \"male|teen\", \"name\": \"male|teen\", \"yaxis\": \"y5\", \"text\": [\"cat1: A<br>cat2: male<br>cat3: teen\", \"cat1: B<br>cat2: male<br>cat3: teen\", \"cat1: C<br>cat2: male<br>cat3: teen\", \"cat1: D<br>cat2: male<br>cat3: teen\"], \"marker\": {\"color\": \"rgba(243, 156, 18, 1)\", \"line\": {\"color\": \"gray\", \"width\": 0.5}}, \"xaxis\": \"x5\", \"hoverinfo\": \"text\", \"y\": [20.588190242010306, 24.463632428994377, 20.74811816224883, 16.887216009844796], \"x\": [\"A\", \"B\", \"C\", \"D\"], \"type\": \"bar\"}, {\"legendgroup\": \"male|child\", \"name\": \"male|child\", \"yaxis\": \"y6\", \"text\": [\"cat1: A<br>cat2: male<br>cat3: child\", \"cat1: B<br>cat2: male<br>cat3: child\", \"cat1: C<br>cat2: male<br>cat3: child\", \"cat1: D<br>cat2: male<br>cat3: child\"], \"marker\": {\"color\": \"rgba(102, 204, 153, 1)\", \"line\": {\"color\": \"gray\", \"width\": 0.5}}, \"xaxis\": \"x6\", \"hoverinfo\": \"text\", \"y\": [18.703014296985877, 24.451667843427405, 18.47765650057995, 22.417882467550907], \"x\": [\"A\", \"B\", \"C\", \"D\"], \"type\": \"bar\"}], {\"yaxis1\": {\"domain\": [0.7777777777777778, 1.0], \"anchor\": \"x1\"}, \"xaxis6\": {\"domain\": [0.55, 1.0], \"anchor\": \"y6\"}, \"xaxis5\": {\"domain\": [0.0, 0.45], \"anchor\": \"y5\"}, \"xaxis4\": {\"domain\": [0.55, 1.0], \"anchor\": \"y4\"}, \"xaxis3\": {\"domain\": [0.0, 0.45], \"anchor\": \"y3\"}, \"xaxis2\": {\"domain\": [0.55, 1.0], \"anchor\": \"y2\"}, \"xaxis1\": {\"domain\": [0.0, 0.45], \"anchor\": \"y1\"}, \"annotations\": [{\"yanchor\": \"bottom\", \"xref\": \"paper\", \"xanchor\": \"center\", \"yref\": \"paper\", \"text\": \"male|adult\", \"y\": 1.0, \"x\": 0.225, \"font\": {\"size\": 16}, \"showarrow\": false}, {\"yanchor\": \"bottom\", \"xref\": \"paper\", \"xanchor\": \"center\", \"yref\": \"paper\", \"text\": \"female|adult\", \"y\": 1.0, \"x\": 0.775, \"font\": {\"size\": 16}, \"showarrow\": false}, {\"yanchor\": \"bottom\", \"xref\": \"paper\", \"xanchor\": \"center\", \"yref\": \"paper\", \"text\": \"female|child\", \"y\": 0.6111111111111112, \"x\": 0.225, \"font\": {\"size\": 16}, \"showarrow\": false}, {\"yanchor\": \"bottom\", \"xref\": \"paper\", \"xanchor\": \"center\", \"yref\": \"paper\", \"text\": \"female|teen\", \"y\": 0.6111111111111112, \"x\": 0.775, \"font\": {\"size\": 16}, \"showarrow\": false}, {\"yanchor\": \"bottom\", \"xref\": \"paper\", \"xanchor\": \"center\", \"yref\": \"paper\", \"text\": \"male|teen\", \"y\": 0.22222222222222224, \"x\": 0.225, \"font\": {\"size\": 16}, \"showarrow\": false}, {\"yanchor\": \"bottom\", \"xref\": \"paper\", \"xanchor\": \"center\", \"yref\": \"paper\", \"text\": \"male|child\", \"y\": 0.22222222222222224, \"x\": 0.775, \"font\": {\"size\": 16}, \"showarrow\": false}], \"barmode\": \"group\", \"yaxis2\": {\"domain\": [0.7777777777777778, 1.0], \"anchor\": \"x2\"}, \"yaxis3\": {\"domain\": [0.3888888888888889, 0.6111111111111112], \"anchor\": \"x3\"}, \"yaxis4\": {\"domain\": [0.3888888888888889, 0.6111111111111112], \"anchor\": \"x4\"}, \"yaxis5\": {\"domain\": [0.0, 0.22222222222222224], \"anchor\": \"x5\"}, \"yaxis6\": {\"domain\": [0.0, 0.22222222222222224], \"anchor\": \"x6\"}, \"legend\": {\"tracegroupgap\": 0}}, {\"linkText\": \"Export to plot.ly\", \"showLink\": true})});</script>"
      ],
      "text/plain": [
       "<IPython.core.display.HTML object>"
      ]
     },
     "metadata": {},
     "output_type": "display_data"
    }
   ],
   "source": [
    "bar.subplots(cols=2)\n",
    "off.iplot(bar.subplot_figure)"
   ]
  },
  {
   "cell_type": "code",
   "execution_count": 45,
   "metadata": {
    "collapsed": true
   },
   "outputs": [],
   "source": [
    "bar = so.StackedBars(df=df, x='cat1', y='num', \n",
    "                     slice_by=['cat2', 'cat3'],\n",
    "                     idx=['cat2'],\n",
    "                     hover_text=['cat1', 'cat2', 'cat3'],\n",
    "                     marker={'line': {'color':'gray', 'width':0.5}}\n",
    "                    )"
   ]
  },
  {
   "cell_type": "code",
   "execution_count": 47,
   "metadata": {
    "collapsed": false
   },
   "outputs": [
    {
     "data": {
      "text/html": [
       "<div id=\"1f64986d-eb0e-48c9-9bcc-9ad2cc05538f\" style=\"height: 525px; width: 100%;\" class=\"plotly-graph-div\"></div><script type=\"text/javascript\">require([\"plotly\"], function(Plotly) { window.PLOTLYENV=window.PLOTLYENV || {};window.PLOTLYENV.BASE_URL=\"https://plot.ly\";Plotly.newPlot(\"1f64986d-eb0e-48c9-9bcc-9ad2cc05538f\", [{\"legendgroup\": \"male|adult\", \"name\": \"male|adult\", \"text\": [\"cat1: A<br>cat2: male<br>cat3: adult\", \"cat1: B<br>cat2: male<br>cat3: adult\", \"cat1: C<br>cat2: male<br>cat3: adult\", \"cat1: D<br>cat2: male<br>cat3: adult\"], \"marker\": {\"color\": \"rgba(25, 181, 254, 1)\", \"line\": {\"color\": \"gray\", \"width\": 0.5}}, \"hoverinfo\": \"text\", \"y\": [15.72101973379144, 19.587735455966396, 22.46989391225016, 23.334960734307646], \"x\": [\"A\", \"B\", \"C\", \"D\"], \"type\": \"bar\"}, {\"legendgroup\": \"male|child\", \"name\": \"male|child\", \"text\": [\"cat1: A<br>cat2: male<br>cat3: child\", \"cat1: B<br>cat2: male<br>cat3: child\", \"cat1: C<br>cat2: male<br>cat3: child\", \"cat1: D<br>cat2: male<br>cat3: child\"], \"marker\": {\"color\": \"rgba(102, 204, 153, 1)\", \"line\": {\"color\": \"gray\", \"width\": 0.5}}, \"hoverinfo\": \"text\", \"y\": [18.703014296985877, 24.451667843427405, 18.47765650057995, 22.417882467550907], \"x\": [\"A\", \"B\", \"C\", \"D\"], \"type\": \"bar\"}, {\"legendgroup\": \"male|teen\", \"name\": \"male|teen\", \"text\": [\"cat1: A<br>cat2: male<br>cat3: teen\", \"cat1: B<br>cat2: male<br>cat3: teen\", \"cat1: C<br>cat2: male<br>cat3: teen\", \"cat1: D<br>cat2: male<br>cat3: teen\"], \"marker\": {\"color\": \"rgba(243, 156, 18, 1)\", \"line\": {\"color\": \"gray\", \"width\": 0.5}}, \"hoverinfo\": \"text\", \"y\": [20.588190242010306, 24.463632428994377, 20.74811816224883, 16.887216009844796], \"x\": [\"A\", \"B\", \"C\", \"D\"], \"type\": \"bar\"}, {\"legendgroup\": \"female|adult\", \"name\": \"female|adult\", \"text\": [\"cat1: A<br>cat2: female<br>cat3: adult\", \"cat1: B<br>cat2: female<br>cat3: adult\", \"cat1: C<br>cat2: female<br>cat3: adult\", \"cat1: D<br>cat2: female<br>cat3: adult\"], \"marker\": {\"color\": \"rgba(103, 65, 114, 1)\", \"line\": {\"color\": \"gray\", \"width\": 0.5}}, \"hoverinfo\": \"text\", \"y\": [14.315842614846789, 18.074745094614343, 19.40114627442219, 24.991385240654857], \"x\": [\"A\", \"B\", \"C\", \"D\"], \"type\": \"bar\"}, {\"legendgroup\": \"female|child\", \"name\": \"female|child\", \"text\": [\"cat1: A<br>cat2: female<br>cat3: child\", \"cat1: B<br>cat2: female<br>cat3: child\", \"cat1: C<br>cat2: female<br>cat3: child\", \"cat1: D<br>cat2: female<br>cat3: child\"], \"marker\": {\"color\": \"rgba(58, 83, 155, 1)\", \"line\": {\"color\": \"gray\", \"width\": 0.5}}, \"hoverinfo\": \"text\", \"y\": [23.70538321388523, 22.188830435490498, 20.13595000562476, 14.714808741590392], \"x\": [\"A\", \"B\", \"C\", \"D\"], \"type\": \"bar\"}, {\"legendgroup\": \"female|teen\", \"name\": \"female|teen\", \"text\": [\"cat1: A<br>cat2: female<br>cat3: teen\", \"cat1: B<br>cat2: female<br>cat3: teen\", \"cat1: C<br>cat2: female<br>cat3: teen\", \"cat1: D<br>cat2: female<br>cat3: teen\"], \"marker\": {\"color\": \"rgba(34, 49, 63, 1)\", \"line\": {\"color\": \"gray\", \"width\": 0.5}}, \"hoverinfo\": \"text\", \"y\": [26.750690529336975, 18.15374863496241, 20.485470692520586, 20.504159255918808], \"x\": [\"A\", \"B\", \"C\", \"D\"], \"type\": \"bar\"}], {\"barmode\": \"stack\", \"legend\": {\"tracegroupgap\": 0}}, {\"linkText\": \"Export to plot.ly\", \"showLink\": true})});</script>"
      ],
      "text/plain": [
       "<IPython.core.display.HTML object>"
      ]
     },
     "metadata": {},
     "output_type": "display_data"
    }
   ],
   "source": [
    "off.iplot(bar.figure)"
   ]
  },
  {
   "cell_type": "code",
   "execution_count": 46,
   "metadata": {
    "collapsed": false
   },
   "outputs": [
    {
     "name": "stdout",
     "output_type": "stream",
     "text": [
      "This is the format of your plot grid:\n",
      "[ (1,1) x1,y1 ]  [ (1,2) x2,y2 ]\n",
      "\n"
     ]
    },
    {
     "data": {
      "text/html": [
       "<div id=\"4db0b76b-398b-44fe-97ec-d1b00a425e8f\" style=\"height: 525px; width: 100%;\" class=\"plotly-graph-div\"></div><script type=\"text/javascript\">require([\"plotly\"], function(Plotly) { window.PLOTLYENV=window.PLOTLYENV || {};window.PLOTLYENV.BASE_URL=\"https://plot.ly\";Plotly.newPlot(\"4db0b76b-398b-44fe-97ec-d1b00a425e8f\", [{\"legendgroup\": \"male|adult\", \"name\": \"male|adult\", \"yaxis\": \"y1\", \"text\": [\"cat1: A<br>cat2: male<br>cat3: adult\", \"cat1: B<br>cat2: male<br>cat3: adult\", \"cat1: C<br>cat2: male<br>cat3: adult\", \"cat1: D<br>cat2: male<br>cat3: adult\"], \"marker\": {\"color\": \"rgba(25, 181, 254, 1)\", \"line\": {\"color\": \"gray\", \"width\": 0.5}}, \"xaxis\": \"x1\", \"hoverinfo\": \"text\", \"y\": [15.72101973379144, 19.587735455966396, 22.46989391225016, 23.334960734307646], \"x\": [\"A\", \"B\", \"C\", \"D\"], \"type\": \"bar\"}, {\"legendgroup\": \"male|child\", \"name\": \"male|child\", \"yaxis\": \"y1\", \"text\": [\"cat1: A<br>cat2: male<br>cat3: child\", \"cat1: B<br>cat2: male<br>cat3: child\", \"cat1: C<br>cat2: male<br>cat3: child\", \"cat1: D<br>cat2: male<br>cat3: child\"], \"marker\": {\"color\": \"rgba(102, 204, 153, 1)\", \"line\": {\"color\": \"gray\", \"width\": 0.5}}, \"xaxis\": \"x1\", \"hoverinfo\": \"text\", \"y\": [18.703014296985877, 24.451667843427405, 18.47765650057995, 22.417882467550907], \"x\": [\"A\", \"B\", \"C\", \"D\"], \"type\": \"bar\"}, {\"legendgroup\": \"male|teen\", \"name\": \"male|teen\", \"yaxis\": \"y1\", \"text\": [\"cat1: A<br>cat2: male<br>cat3: teen\", \"cat1: B<br>cat2: male<br>cat3: teen\", \"cat1: C<br>cat2: male<br>cat3: teen\", \"cat1: D<br>cat2: male<br>cat3: teen\"], \"marker\": {\"color\": \"rgba(243, 156, 18, 1)\", \"line\": {\"color\": \"gray\", \"width\": 0.5}}, \"xaxis\": \"x1\", \"hoverinfo\": \"text\", \"y\": [20.588190242010306, 24.463632428994377, 20.74811816224883, 16.887216009844796], \"x\": [\"A\", \"B\", \"C\", \"D\"], \"type\": \"bar\"}, {\"legendgroup\": \"female|adult\", \"name\": \"female|adult\", \"yaxis\": \"y2\", \"text\": [\"cat1: A<br>cat2: female<br>cat3: adult\", \"cat1: B<br>cat2: female<br>cat3: adult\", \"cat1: C<br>cat2: female<br>cat3: adult\", \"cat1: D<br>cat2: female<br>cat3: adult\"], \"marker\": {\"color\": \"rgba(103, 65, 114, 1)\", \"line\": {\"color\": \"gray\", \"width\": 0.5}}, \"xaxis\": \"x2\", \"hoverinfo\": \"text\", \"y\": [14.315842614846789, 18.074745094614343, 19.40114627442219, 24.991385240654857], \"x\": [\"A\", \"B\", \"C\", \"D\"], \"type\": \"bar\"}, {\"legendgroup\": \"female|child\", \"name\": \"female|child\", \"yaxis\": \"y2\", \"text\": [\"cat1: A<br>cat2: female<br>cat3: child\", \"cat1: B<br>cat2: female<br>cat3: child\", \"cat1: C<br>cat2: female<br>cat3: child\", \"cat1: D<br>cat2: female<br>cat3: child\"], \"marker\": {\"color\": \"rgba(58, 83, 155, 1)\", \"line\": {\"color\": \"gray\", \"width\": 0.5}}, \"xaxis\": \"x2\", \"hoverinfo\": \"text\", \"y\": [23.70538321388523, 22.188830435490498, 20.13595000562476, 14.714808741590392], \"x\": [\"A\", \"B\", \"C\", \"D\"], \"type\": \"bar\"}, {\"legendgroup\": \"female|teen\", \"name\": \"female|teen\", \"yaxis\": \"y2\", \"text\": [\"cat1: A<br>cat2: female<br>cat3: teen\", \"cat1: B<br>cat2: female<br>cat3: teen\", \"cat1: C<br>cat2: female<br>cat3: teen\", \"cat1: D<br>cat2: female<br>cat3: teen\"], \"marker\": {\"color\": \"rgba(34, 49, 63, 1)\", \"line\": {\"color\": \"gray\", \"width\": 0.5}}, \"xaxis\": \"x2\", \"hoverinfo\": \"text\", \"y\": [26.750690529336975, 18.15374863496241, 20.485470692520586, 20.504159255918808], \"x\": [\"A\", \"B\", \"C\", \"D\"], \"type\": \"bar\"}], {\"yaxis1\": {\"domain\": [0.0, 1.0], \"anchor\": \"x1\"}, \"xaxis2\": {\"domain\": [0.55, 1.0], \"anchor\": \"y2\"}, \"xaxis1\": {\"domain\": [0.0, 0.45], \"anchor\": \"y1\"}, \"annotations\": [{\"yanchor\": \"bottom\", \"xref\": \"paper\", \"xanchor\": \"center\", \"yref\": \"paper\", \"text\": \"male\", \"y\": 1.0, \"x\": 0.225, \"font\": {\"size\": 16}, \"showarrow\": false}, {\"yanchor\": \"bottom\", \"xref\": \"paper\", \"xanchor\": \"center\", \"yref\": \"paper\", \"text\": \"female\", \"y\": 1.0, \"x\": 0.775, \"font\": {\"size\": 16}, \"showarrow\": false}], \"barmode\": \"stack\", \"yaxis2\": {\"domain\": [0.0, 1.0], \"anchor\": \"x2\"}, \"legend\": {\"tracegroupgap\": 0}}, {\"linkText\": \"Export to plot.ly\", \"showLink\": true})});</script>"
      ],
      "text/plain": [
       "<IPython.core.display.HTML object>"
      ]
     },
     "metadata": {},
     "output_type": "display_data"
    }
   ],
   "source": [
    "bar.subplots(cols=2)\n",
    "off.iplot(bar.subplot_figure)"
   ]
  },
  {
   "cell_type": "code",
   "execution_count": null,
   "metadata": {
    "collapsed": true
   },
   "outputs": [],
   "source": []
  }
 ],
 "metadata": {
  "anaconda-cloud": {},
  "kernelspec": {
   "display_name": "Python [Root]",
   "language": "python",
   "name": "Python [Root]"
  },
  "language_info": {
   "codemirror_mode": {
    "name": "ipython",
    "version": 2
   },
   "file_extension": ".py",
   "mimetype": "text/x-python",
   "name": "python",
   "nbconvert_exporter": "python",
   "pygments_lexer": "ipython2",
   "version": "2.7.12"
  }
 },
 "nbformat": 4,
 "nbformat_minor": 0
}
